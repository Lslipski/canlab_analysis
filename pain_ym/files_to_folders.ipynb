{
 "cells": [
  {
   "cell_type": "code",
   "execution_count": 48,
   "metadata": {},
   "outputs": [
    {
     "ename": "NameError",
     "evalue": "name 'cd' is not defined",
     "output_type": "error",
     "traceback": [
      "\u001b[0;31m---------------------------------------------------------------------------\u001b[0m",
      "\u001b[0;31mNameError\u001b[0m                                 Traceback (most recent call last)",
      "\u001b[0;32m<ipython-input-48-13f7b50c873b>\u001b[0m in \u001b[0;36m<module>\u001b[0;34m()\u001b[0m\n\u001b[1;32m      1\u001b[0m \u001b[0;32mimport\u001b[0m \u001b[0mglob\u001b[0m\u001b[0;34m,\u001b[0m \u001b[0mos\u001b[0m\u001b[0;34m,\u001b[0m \u001b[0mshutil\u001b[0m\u001b[0;34m\u001b[0m\u001b[0m\n\u001b[0;32m----> 2\u001b[0;31m \u001b[0mcd\u001b[0m \u001b[0;34m/\u001b[0m\u001b[0mhome\u001b[0m\u001b[0;34m/\u001b[0m\u001b[0mlukie\u001b[0m\u001b[0;34m/\u001b[0m\u001b[0mDocuments\u001b[0m\u001b[0;34m/\u001b[0m\u001b[0mCANlab\u001b[0m\u001b[0;34m/\u001b[0m\u001b[0myina_ma\u001b[0m\u001b[0;34m/\u001b[0m\u001b[0mdata\u001b[0m\u001b[0;34m/\u001b[0m\u001b[0mpain\u001b[0m\u001b[0;34m\u001b[0m\u001b[0m\n\u001b[0m",
      "\u001b[0;31mNameError\u001b[0m: name 'cd' is not defined"
     ]
    }
   ],
   "source": [
    "import glob, os, shutil"
   ]
  },
  {
   "cell_type": "code",
   "execution_count": 7,
   "metadata": {},
   "outputs": [
    {
     "name": "stdout",
     "output_type": "stream",
     "text": [
      "Location of files to put into folders:/home/lukie/Documents/CANlab/yina_ma/data/test\n"
     ]
    }
   ],
   "source": [
    "folder = os.getcwd()\n",
    "print(\"Location of files to put into folders:\" + x)"
   ]
  },
  {
   "cell_type": "code",
   "execution_count": 45,
   "metadata": {
    "scrolled": true
   },
   "outputs": [
    {
     "name": "stdout",
     "output_type": "stream",
     "text": [
      "/home/lukie/Documents/CANlab/yina_ma/data/test/20111017_K32_SSUB04\n",
      "/home/lukie/Documents/CANlab/yina_ma/data/test/20111031_K32_SSUB05\n",
      "/home/lukie/Documents/CANlab/yina_ma/data/test/20111031_K32_SSUB05\n",
      "/home/lukie/Documents/CANlab/yina_ma/data/test/20111031_K32_SSUB05\n",
      "/home/lukie/Documents/CANlab/yina_ma/data/test/20111017_K32_SSUB04\n",
      "/home/lukie/Documents/CANlab/yina_ma/data/test/20111017_K32_SSUB04\n",
      "/home/lukie/Documents/CANlab/yina_ma/data/test/20111031_K32_SSUB05\n",
      "/home/lukie/Documents/CANlab/yina_ma/data/test/20111017_K32_SSUB04\n",
      "/home/lukie/Documents/CANlab/yina_ma/data/test/20111017_K32_SSUB04\n",
      "/home/lukie/Documents/CANlab/yina_ma/data/test/20111031_K32_SSUB05\n",
      "/home/lukie/Documents/CANlab/yina_ma/data/test/20111031_K32_SSUB05\n",
      "/home/lukie/Documents/CANlab/yina_ma/data/test/20111017_K32_SSUB04\n",
      "/home/lukie/Documents/CANlab/yina_ma/data/test/20111017_K32_SSUB04\n",
      "/home/lukie/Documents/CANlab/yina_ma/data/test/20111017_K32_SSUB04\n",
      "/home/lukie/Documents/CANlab/yina_ma/data/test/20111017_K32_SSUB04\n",
      "/home/lukie/Documents/CANlab/yina_ma/data/test/20111031_K32_SSUB05\n",
      "/home/lukie/Documents/CANlab/yina_ma/data/test/20111031_K32_SSUB05\n",
      "/home/lukie/Documents/CANlab/yina_ma/data/test/20111031_K32_SSUB05\n",
      "/home/lukie/Documents/CANlab/yina_ma/data/test/20111031_K32_SSUB05\n",
      "/home/lukie/Documents/CANlab/yina_ma/data/test/20111017_K32_SSUB04\n",
      "/home/lukie/Documents/CANlab/yina_ma/data/test/20111031_K32_SSUB05\n",
      "/home/lukie/Documents/CANlab/yina_ma/data/test/20111017_K32_SSUB04\n"
     ]
    }
   ],
   "source": [
    "for file_path in glob.glob(os.path.join(folder, '*.*')):\n",
    "    new_dir = file_path.rsplit('_', 3)[0]\n",
    "    print(new_dir)\n",
    "    if os.path.isdir(os.path.join(folder, new_dir)):\n",
    "        shutil.move(file_path, os.path.join(new_dir, os.path.basename(file_path)))\n",
    "    else:\n",
    "        os.mkdir(os.path.join(folder, new_dir))\n",
    "        shutil.move(file_path, os.path.join(new_dir, os.path.basename(file_path)))"
   ]
  },
  {
   "cell_type": "code",
   "execution_count": null,
   "metadata": {},
   "outputs": [],
   "source": [
    "import glob, os, shutil\n",
    "\n",
    "def files_to_folders():\n",
    "\n",
    "#set location to organize files into folders to the current directory\n",
    "folder = os.getcwd()\n",
    "print(\"Location of files to put into folders:\" + x)\n",
    "\n",
    "#for each file in the current directory\n",
    "for file_path in glob.glob(os.path.join(folder, '*.*')):\n",
    "    #split the filepath on the 3rd hyphen\n",
    "    new_dir = file_path.rsplit('_', 3)[0]\n",
    "    #print the new name of the filepath\n",
    "    print(new_dir)\n",
    "    #if the folder for that file already exists, move this file to the existing location\n",
    "    if os.path.isdir(os.path.join(folder, new_dir)):\n",
    "        shutil.move(file_path, os.path.join(new_dir, os.path.basename(file_path)))\n",
    "    #if the folder for that file does not exist, create the folder and move the file into it\n",
    "    else:\n",
    "        os.mkdir(os.path.join(folder, new_dir))\n",
    "        shutil.move(file_path, os.path.join(new_dir, os.path.basename(file_path)))\n",
    "\n",
    "#run function\n",
    "files_to_folders()\n"
   ]
  }
 ],
 "metadata": {
  "kernelspec": {
   "display_name": "Python 3",
   "language": "python",
   "name": "python3"
  },
  "language_info": {
   "codemirror_mode": {
    "name": "ipython",
    "version": 3
   },
   "file_extension": ".py",
   "mimetype": "text/x-python",
   "name": "python",
   "nbconvert_exporter": "python",
   "pygments_lexer": "ipython3",
   "version": "3.6.5"
  }
 },
 "nbformat": 4,
 "nbformat_minor": 2
}
